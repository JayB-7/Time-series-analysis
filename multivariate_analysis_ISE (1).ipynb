{
  "nbformat": 4,
  "nbformat_minor": 0,
  "metadata": {
    "colab": {
      "name": "multivariate_analysis_ISE.ipynb",
      "provenance": [],
      "collapsed_sections": []
    },
    "kernelspec": {
      "name": "python3",
      "display_name": "Python 3"
    },
    "language_info": {
      "name": "python"
    }
  },
  "cells": [
    {
      "cell_type": "markdown",
      "metadata": {
        "id": "hGB_JLz5q6SO"
      },
      "source": [
        "## Importing the Libraries"
      ]
    },
    {
      "cell_type": "code",
      "metadata": {
        "id": "y6Hxu5cTqTi8"
      },
      "source": [
        "import pandas as pd\n",
        "import numpy as np\n",
        "import seaborn as sns\n",
        "import matplotlib.pyplot as plt\n",
        "import statsmodels.api as sm"
      ],
      "execution_count": null,
      "outputs": []
    },
    {
      "cell_type": "markdown",
      "metadata": {
        "id": "Rdbi4es9tu3g"
      },
      "source": [
        "## Importing the csv file"
      ]
    },
    {
      "cell_type": "code",
      "metadata": {
        "id": "fOJu9wRQrA98",
        "colab": {
          "base_uri": "https://localhost:8080/",
          "height": 203
        },
        "outputId": "5e4970c7-e705-4491-ccfa-11a4dee34238"
      },
      "source": [
        "df = pd.read_csv(\"/content/data1.csv\")\n",
        "df.head()"
      ],
      "execution_count": null,
      "outputs": [
        {
          "output_type": "execute_result",
          "data": {
            "text/html": [
              "<div>\n",
              "<style scoped>\n",
              "    .dataframe tbody tr th:only-of-type {\n",
              "        vertical-align: middle;\n",
              "    }\n",
              "\n",
              "    .dataframe tbody tr th {\n",
              "        vertical-align: top;\n",
              "    }\n",
              "\n",
              "    .dataframe thead th {\n",
              "        text-align: right;\n",
              "    }\n",
              "</style>\n",
              "<table border=\"1\" class=\"dataframe\">\n",
              "  <thead>\n",
              "    <tr style=\"text-align: right;\">\n",
              "      <th></th>\n",
              "      <th>date</th>\n",
              "      <th>ISE</th>\n",
              "      <th>ISE.1</th>\n",
              "      <th>SP</th>\n",
              "      <th>DAX</th>\n",
              "      <th>FTSE</th>\n",
              "      <th>NIKKEI</th>\n",
              "      <th>BOVESPA</th>\n",
              "      <th>EU</th>\n",
              "      <th>EM</th>\n",
              "    </tr>\n",
              "  </thead>\n",
              "  <tbody>\n",
              "    <tr>\n",
              "      <th>0</th>\n",
              "      <td>5-Jan-09</td>\n",
              "      <td>0.035754</td>\n",
              "      <td>0.038376</td>\n",
              "      <td>-0.004679</td>\n",
              "      <td>0.002193</td>\n",
              "      <td>0.003894</td>\n",
              "      <td>0.000000</td>\n",
              "      <td>0.031190</td>\n",
              "      <td>0.012698</td>\n",
              "      <td>0.028524</td>\n",
              "    </tr>\n",
              "    <tr>\n",
              "      <th>1</th>\n",
              "      <td>6-Jan-09</td>\n",
              "      <td>0.025426</td>\n",
              "      <td>0.031813</td>\n",
              "      <td>0.007787</td>\n",
              "      <td>0.008455</td>\n",
              "      <td>0.012866</td>\n",
              "      <td>0.004162</td>\n",
              "      <td>0.018920</td>\n",
              "      <td>0.011341</td>\n",
              "      <td>0.008773</td>\n",
              "    </tr>\n",
              "    <tr>\n",
              "      <th>2</th>\n",
              "      <td>7-Jan-09</td>\n",
              "      <td>-0.028862</td>\n",
              "      <td>-0.026353</td>\n",
              "      <td>-0.030469</td>\n",
              "      <td>-0.017833</td>\n",
              "      <td>-0.028735</td>\n",
              "      <td>0.017293</td>\n",
              "      <td>-0.035899</td>\n",
              "      <td>-0.017073</td>\n",
              "      <td>-0.020015</td>\n",
              "    </tr>\n",
              "    <tr>\n",
              "      <th>3</th>\n",
              "      <td>8-Jan-09</td>\n",
              "      <td>-0.062208</td>\n",
              "      <td>-0.084716</td>\n",
              "      <td>0.003391</td>\n",
              "      <td>-0.011726</td>\n",
              "      <td>-0.000466</td>\n",
              "      <td>-0.040061</td>\n",
              "      <td>0.028283</td>\n",
              "      <td>-0.005561</td>\n",
              "      <td>-0.019424</td>\n",
              "    </tr>\n",
              "    <tr>\n",
              "      <th>4</th>\n",
              "      <td>9-Jan-09</td>\n",
              "      <td>0.009860</td>\n",
              "      <td>0.009658</td>\n",
              "      <td>-0.021533</td>\n",
              "      <td>-0.019873</td>\n",
              "      <td>-0.012710</td>\n",
              "      <td>-0.004474</td>\n",
              "      <td>-0.009764</td>\n",
              "      <td>-0.010989</td>\n",
              "      <td>-0.007802</td>\n",
              "    </tr>\n",
              "  </tbody>\n",
              "</table>\n",
              "</div>"
            ],
            "text/plain": [
              "       date       ISE     ISE.1  ...   BOVESPA        EU        EM\n",
              "0  5-Jan-09  0.035754  0.038376  ...  0.031190  0.012698  0.028524\n",
              "1  6-Jan-09  0.025426  0.031813  ...  0.018920  0.011341  0.008773\n",
              "2  7-Jan-09 -0.028862 -0.026353  ... -0.035899 -0.017073 -0.020015\n",
              "3  8-Jan-09 -0.062208 -0.084716  ...  0.028283 -0.005561 -0.019424\n",
              "4  9-Jan-09  0.009860  0.009658  ... -0.009764 -0.010989 -0.007802\n",
              "\n",
              "[5 rows x 10 columns]"
            ]
          },
          "metadata": {
            "tags": []
          },
          "execution_count": 18
        }
      ]
    },
    {
      "cell_type": "code",
      "metadata": {
        "id": "9jQKzpOTuTzV",
        "colab": {
          "base_uri": "https://localhost:8080/",
          "height": 234
        },
        "outputId": "1405d4f7-f599-4bc5-c7c1-26e5a487b88c"
      },
      "source": [
        "df.date = pd.to_datetime(df.date, dayfirst = True)\n",
        "df.set_index(\"date\", inplace=True)\n",
        "df=df.asfreq('b')\n",
        "df=df.fillna(method='ffill')\n",
        "df.head()"
      ],
      "execution_count": null,
      "outputs": [
        {
          "output_type": "execute_result",
          "data": {
            "text/html": [
              "<div>\n",
              "<style scoped>\n",
              "    .dataframe tbody tr th:only-of-type {\n",
              "        vertical-align: middle;\n",
              "    }\n",
              "\n",
              "    .dataframe tbody tr th {\n",
              "        vertical-align: top;\n",
              "    }\n",
              "\n",
              "    .dataframe thead th {\n",
              "        text-align: right;\n",
              "    }\n",
              "</style>\n",
              "<table border=\"1\" class=\"dataframe\">\n",
              "  <thead>\n",
              "    <tr style=\"text-align: right;\">\n",
              "      <th></th>\n",
              "      <th>ISE</th>\n",
              "      <th>ISE.1</th>\n",
              "      <th>SP</th>\n",
              "      <th>DAX</th>\n",
              "      <th>FTSE</th>\n",
              "      <th>NIKKEI</th>\n",
              "      <th>BOVESPA</th>\n",
              "      <th>EU</th>\n",
              "      <th>EM</th>\n",
              "    </tr>\n",
              "    <tr>\n",
              "      <th>date</th>\n",
              "      <th></th>\n",
              "      <th></th>\n",
              "      <th></th>\n",
              "      <th></th>\n",
              "      <th></th>\n",
              "      <th></th>\n",
              "      <th></th>\n",
              "      <th></th>\n",
              "      <th></th>\n",
              "    </tr>\n",
              "  </thead>\n",
              "  <tbody>\n",
              "    <tr>\n",
              "      <th>2009-01-05</th>\n",
              "      <td>0.035754</td>\n",
              "      <td>0.038376</td>\n",
              "      <td>-0.004679</td>\n",
              "      <td>0.002193</td>\n",
              "      <td>0.003894</td>\n",
              "      <td>0.000000</td>\n",
              "      <td>0.031190</td>\n",
              "      <td>0.012698</td>\n",
              "      <td>0.028524</td>\n",
              "    </tr>\n",
              "    <tr>\n",
              "      <th>2009-01-06</th>\n",
              "      <td>0.025426</td>\n",
              "      <td>0.031813</td>\n",
              "      <td>0.007787</td>\n",
              "      <td>0.008455</td>\n",
              "      <td>0.012866</td>\n",
              "      <td>0.004162</td>\n",
              "      <td>0.018920</td>\n",
              "      <td>0.011341</td>\n",
              "      <td>0.008773</td>\n",
              "    </tr>\n",
              "    <tr>\n",
              "      <th>2009-01-07</th>\n",
              "      <td>-0.028862</td>\n",
              "      <td>-0.026353</td>\n",
              "      <td>-0.030469</td>\n",
              "      <td>-0.017833</td>\n",
              "      <td>-0.028735</td>\n",
              "      <td>0.017293</td>\n",
              "      <td>-0.035899</td>\n",
              "      <td>-0.017073</td>\n",
              "      <td>-0.020015</td>\n",
              "    </tr>\n",
              "    <tr>\n",
              "      <th>2009-01-08</th>\n",
              "      <td>-0.062208</td>\n",
              "      <td>-0.084716</td>\n",
              "      <td>0.003391</td>\n",
              "      <td>-0.011726</td>\n",
              "      <td>-0.000466</td>\n",
              "      <td>-0.040061</td>\n",
              "      <td>0.028283</td>\n",
              "      <td>-0.005561</td>\n",
              "      <td>-0.019424</td>\n",
              "    </tr>\n",
              "    <tr>\n",
              "      <th>2009-01-09</th>\n",
              "      <td>0.009860</td>\n",
              "      <td>0.009658</td>\n",
              "      <td>-0.021533</td>\n",
              "      <td>-0.019873</td>\n",
              "      <td>-0.012710</td>\n",
              "      <td>-0.004474</td>\n",
              "      <td>-0.009764</td>\n",
              "      <td>-0.010989</td>\n",
              "      <td>-0.007802</td>\n",
              "    </tr>\n",
              "  </tbody>\n",
              "</table>\n",
              "</div>"
            ],
            "text/plain": [
              "                 ISE     ISE.1        SP  ...   BOVESPA        EU        EM\n",
              "date                                      ...                              \n",
              "2009-01-05  0.035754  0.038376 -0.004679  ...  0.031190  0.012698  0.028524\n",
              "2009-01-06  0.025426  0.031813  0.007787  ...  0.018920  0.011341  0.008773\n",
              "2009-01-07 -0.028862 -0.026353 -0.030469  ... -0.035899 -0.017073 -0.020015\n",
              "2009-01-08 -0.062208 -0.084716  0.003391  ...  0.028283 -0.005561 -0.019424\n",
              "2009-01-09  0.009860  0.009658 -0.021533  ... -0.009764 -0.010989 -0.007802\n",
              "\n",
              "[5 rows x 9 columns]"
            ]
          },
          "metadata": {
            "tags": []
          },
          "execution_count": 19
        }
      ]
    },
    {
      "cell_type": "code",
      "metadata": {
        "id": "1P9JGpinuZL4",
        "colab": {
          "base_uri": "https://localhost:8080/",
          "height": 295
        },
        "outputId": "aac63b12-8d3c-44b9-988c-46bf2776dae4"
      },
      "source": [
        "df.describe()"
      ],
      "execution_count": null,
      "outputs": [
        {
          "output_type": "execute_result",
          "data": {
            "text/html": [
              "<div>\n",
              "<style scoped>\n",
              "    .dataframe tbody tr th:only-of-type {\n",
              "        vertical-align: middle;\n",
              "    }\n",
              "\n",
              "    .dataframe tbody tr th {\n",
              "        vertical-align: top;\n",
              "    }\n",
              "\n",
              "    .dataframe thead th {\n",
              "        text-align: right;\n",
              "    }\n",
              "</style>\n",
              "<table border=\"1\" class=\"dataframe\">\n",
              "  <thead>\n",
              "    <tr style=\"text-align: right;\">\n",
              "      <th></th>\n",
              "      <th>ISE</th>\n",
              "      <th>ISE.1</th>\n",
              "      <th>SP</th>\n",
              "      <th>DAX</th>\n",
              "      <th>FTSE</th>\n",
              "      <th>NIKKEI</th>\n",
              "      <th>BOVESPA</th>\n",
              "      <th>EU</th>\n",
              "      <th>EM</th>\n",
              "    </tr>\n",
              "  </thead>\n",
              "  <tbody>\n",
              "    <tr>\n",
              "      <th>count</th>\n",
              "      <td>557.000000</td>\n",
              "      <td>557.000000</td>\n",
              "      <td>557.000000</td>\n",
              "      <td>557.000000</td>\n",
              "      <td>557.000000</td>\n",
              "      <td>557.000000</td>\n",
              "      <td>557.000000</td>\n",
              "      <td>557.000000</td>\n",
              "      <td>557.000000</td>\n",
              "    </tr>\n",
              "    <tr>\n",
              "      <th>mean</th>\n",
              "      <td>0.001611</td>\n",
              "      <td>0.001587</td>\n",
              "      <td>0.000650</td>\n",
              "      <td>0.000876</td>\n",
              "      <td>0.000601</td>\n",
              "      <td>0.000242</td>\n",
              "      <td>0.000921</td>\n",
              "      <td>0.000592</td>\n",
              "      <td>0.000907</td>\n",
              "    </tr>\n",
              "    <tr>\n",
              "      <th>std</th>\n",
              "      <td>0.016220</td>\n",
              "      <td>0.021082</td>\n",
              "      <td>0.013960</td>\n",
              "      <td>0.014459</td>\n",
              "      <td>0.012562</td>\n",
              "      <td>0.014736</td>\n",
              "      <td>0.015897</td>\n",
              "      <td>0.012892</td>\n",
              "      <td>0.010482</td>\n",
              "    </tr>\n",
              "    <tr>\n",
              "      <th>min</th>\n",
              "      <td>-0.062208</td>\n",
              "      <td>-0.084716</td>\n",
              "      <td>-0.054262</td>\n",
              "      <td>-0.052331</td>\n",
              "      <td>-0.054816</td>\n",
              "      <td>-0.050448</td>\n",
              "      <td>-0.053849</td>\n",
              "      <td>-0.048817</td>\n",
              "      <td>-0.038564</td>\n",
              "    </tr>\n",
              "    <tr>\n",
              "      <th>25%</th>\n",
              "      <td>-0.006520</td>\n",
              "      <td>-0.009518</td>\n",
              "      <td>-0.004573</td>\n",
              "      <td>-0.006074</td>\n",
              "      <td>-0.005777</td>\n",
              "      <td>-0.007379</td>\n",
              "      <td>-0.007220</td>\n",
              "      <td>-0.005861</td>\n",
              "      <td>-0.004860</td>\n",
              "    </tr>\n",
              "    <tr>\n",
              "      <th>50%</th>\n",
              "      <td>0.002217</td>\n",
              "      <td>0.002742</td>\n",
              "      <td>0.000842</td>\n",
              "      <td>0.001322</td>\n",
              "      <td>0.000704</td>\n",
              "      <td>0.000000</td>\n",
              "      <td>0.000237</td>\n",
              "      <td>0.000477</td>\n",
              "      <td>0.000977</td>\n",
              "    </tr>\n",
              "    <tr>\n",
              "      <th>75%</th>\n",
              "      <td>0.010203</td>\n",
              "      <td>0.013495</td>\n",
              "      <td>0.006442</td>\n",
              "      <td>0.008216</td>\n",
              "      <td>0.007634</td>\n",
              "      <td>0.007992</td>\n",
              "      <td>0.008874</td>\n",
              "      <td>0.007765</td>\n",
              "      <td>0.006189</td>\n",
              "    </tr>\n",
              "    <tr>\n",
              "      <th>max</th>\n",
              "      <td>0.068952</td>\n",
              "      <td>0.100621</td>\n",
              "      <td>0.068366</td>\n",
              "      <td>0.058951</td>\n",
              "      <td>0.050323</td>\n",
              "      <td>0.061229</td>\n",
              "      <td>0.063792</td>\n",
              "      <td>0.067042</td>\n",
              "      <td>0.047805</td>\n",
              "    </tr>\n",
              "  </tbody>\n",
              "</table>\n",
              "</div>"
            ],
            "text/plain": [
              "              ISE       ISE.1          SP  ...     BOVESPA          EU          EM\n",
              "count  557.000000  557.000000  557.000000  ...  557.000000  557.000000  557.000000\n",
              "mean     0.001611    0.001587    0.000650  ...    0.000921    0.000592    0.000907\n",
              "std      0.016220    0.021082    0.013960  ...    0.015897    0.012892    0.010482\n",
              "min     -0.062208   -0.084716   -0.054262  ...   -0.053849   -0.048817   -0.038564\n",
              "25%     -0.006520   -0.009518   -0.004573  ...   -0.007220   -0.005861   -0.004860\n",
              "50%      0.002217    0.002742    0.000842  ...    0.000237    0.000477    0.000977\n",
              "75%      0.010203    0.013495    0.006442  ...    0.008874    0.007765    0.006189\n",
              "max      0.068952    0.100621    0.068366  ...    0.063792    0.067042    0.047805\n",
              "\n",
              "[8 rows x 9 columns]"
            ]
          },
          "metadata": {
            "tags": []
          },
          "execution_count": 20
        }
      ]
    },
    {
      "cell_type": "markdown",
      "metadata": {
        "id": "4FVK-urQ5lC7"
      },
      "source": [
        "## **Ad Fuller test to check for Stationarity**"
      ]
    },
    {
      "cell_type": "code",
      "metadata": {
        "id": "9tHCgWPNAN5e"
      },
      "source": [
        "from statsmodels.tsa.stattools import adfuller"
      ],
      "execution_count": null,
      "outputs": []
    },
    {
      "cell_type": "code",
      "metadata": {
        "id": "gxStLkKau4Vg",
        "colab": {
          "base_uri": "https://localhost:8080/"
        },
        "outputId": "58822818-32d4-4596-e8b3-2c3586ff7a70"
      },
      "source": [
        "for i in range(len(df.columns)):\n",
        "  results = adfuller(df[df.columns[i]])\n",
        "  print('For the time series: {}'.format(df.columns[i]))\n",
        "  print('Test statistic is: {} and p-value is: {}'.format(results[0],results[1]))\n",
        "  if results[1]<=0.05:\n",
        "    print(\"The time series {} is stationary\".format(df.columns[i]))\n",
        "  else:\n",
        "    print(\"The time series {} is not stationary\".format(df.columns[i]))\n",
        "  print(' ')"
      ],
      "execution_count": null,
      "outputs": [
        {
          "output_type": "stream",
          "text": [
            "For the time series: ISE\n",
            "Test statistic is: -22.459616803357637 and p-value is: 0.0\n",
            "The time series ISE is stationary\n",
            " \n",
            "For the time series: ISE.1\n",
            "Test statistic is: -21.23825449104866 and p-value is: 0.0\n",
            "The time series ISE.1 is stationary\n",
            " \n",
            "For the time series: SP\n",
            "Test statistic is: -24.507998861382244 and p-value is: 0.0\n",
            "The time series SP is stationary\n",
            " \n",
            "For the time series: DAX\n",
            "Test statistic is: -22.935828242530988 and p-value is: 0.0\n",
            "The time series DAX is stationary\n",
            " \n",
            "For the time series: FTSE\n",
            "Test statistic is: -23.161333454967515 and p-value is: 0.0\n",
            "The time series FTSE is stationary\n",
            " \n",
            "For the time series: NIKKEI\n",
            "Test statistic is: -24.802137440989725 and p-value is: 0.0\n",
            "The time series NIKKEI is stationary\n",
            " \n",
            "For the time series: BOVESPA\n",
            "Test statistic is: -23.370886880819715 and p-value is: 0.0\n",
            "The time series BOVESPA is stationary\n",
            " \n",
            "For the time series: EU\n",
            "Test statistic is: -22.791080460278394 and p-value is: 0.0\n",
            "The time series EU is stationary\n",
            " \n",
            "For the time series: EM\n",
            "Test statistic is: -19.758555248169966 and p-value is: 0.0\n",
            "The time series EM is stationary\n",
            " \n"
          ],
          "name": "stdout"
        }
      ]
    },
    {
      "cell_type": "markdown",
      "metadata": {
        "id": "SdfzVtRA8nZg"
      },
      "source": [
        "## Here we can see that all the time series are stationary\n",
        "-------------------------------------------------------------------------------"
      ]
    },
    {
      "cell_type": "markdown",
      "metadata": {
        "id": "tJYdWXHL-3-O"
      },
      "source": [
        "### Causality shows that one variable directly effects a change in the other and hence is used in multivariate time series \n",
        "## **Checking for causality using Granger Causality test**\n",
        "### Checking if other columns causes changes in ISE"
      ]
    },
    {
      "cell_type": "code",
      "metadata": {
        "id": "yScF0YwoAIg6"
      },
      "source": [
        "from statsmodels.tsa.stattools import grangercausalitytests"
      ],
      "execution_count": null,
      "outputs": []
    },
    {
      "cell_type": "markdown",
      "metadata": {
        "id": "mW5jST-QDhM3"
      },
      "source": [
        "\n",
        "### 1. The data for test whether the time series in the second column Granger causes the time series in the first column.\n",
        "### 2. If p<0.05 for all the 4 tests we can say that the 2nd column specified in the causality test causes ISE for that lag onwards\n",
        "\n"
      ]
    },
    {
      "cell_type": "code",
      "metadata": {
        "id": "EgbfsTU5-Gz7",
        "colab": {
          "base_uri": "https://localhost:8080/"
        },
        "outputId": "e3d5e8ea-bf3a-4247-c05d-1efcb0b072ef"
      },
      "source": [
        "for i in range(len(df.columns)-1):\n",
        "  print(\"Does {} causes ISE? \".format(df.columns[i+1]))\n",
        "  print('----------------------------------------------------------')\n",
        "  results = grangercausalitytests(df[['ISE',df.columns[i+1]]],3)\n",
        "  print(' ')"
      ],
      "execution_count": null,
      "outputs": [
        {
          "output_type": "stream",
          "text": [
            "Does ISE.1 causes ISE? \n",
            "----------------------------------------------------------\n",
            "\n",
            "Granger Causality\n",
            "number of lags (no zero) 1\n",
            "ssr based F test:         F=0.1324  , p=0.7161  , df_denom=553, df_num=1\n",
            "ssr based chi2 test:   chi2=0.1331  , p=0.7153  , df=1\n",
            "likelihood ratio test: chi2=0.1331  , p=0.7153  , df=1\n",
            "parameter F test:         F=0.1324  , p=0.7161  , df_denom=553, df_num=1\n",
            "\n",
            "Granger Causality\n",
            "number of lags (no zero) 2\n",
            "ssr based F test:         F=0.0673  , p=0.9349  , df_denom=550, df_num=2\n",
            "ssr based chi2 test:   chi2=0.1359  , p=0.9343  , df=2\n",
            "likelihood ratio test: chi2=0.1359  , p=0.9343  , df=2\n",
            "parameter F test:         F=0.0673  , p=0.9349  , df_denom=550, df_num=2\n",
            "\n",
            "Granger Causality\n",
            "number of lags (no zero) 3\n",
            "ssr based F test:         F=0.6261  , p=0.5984  , df_denom=547, df_num=3\n",
            "ssr based chi2 test:   chi2=1.9024  , p=0.5929  , df=3\n",
            "likelihood ratio test: chi2=1.8992  , p=0.5936  , df=3\n",
            "parameter F test:         F=0.6261  , p=0.5984  , df_denom=547, df_num=3\n",
            " \n",
            "Does SP causes ISE? \n",
            "----------------------------------------------------------\n",
            "\n",
            "Granger Causality\n",
            "number of lags (no zero) 1\n",
            "ssr based F test:         F=15.4603 , p=0.0001  , df_denom=553, df_num=1\n",
            "ssr based chi2 test:   chi2=15.5442 , p=0.0001  , df=1\n",
            "likelihood ratio test: chi2=15.3309 , p=0.0001  , df=1\n",
            "parameter F test:         F=15.4603 , p=0.0001  , df_denom=553, df_num=1\n",
            "\n",
            "Granger Causality\n",
            "number of lags (no zero) 2\n",
            "ssr based F test:         F=8.2492  , p=0.0003  , df_denom=550, df_num=2\n",
            "ssr based chi2 test:   chi2=16.6484 , p=0.0002  , df=2\n",
            "likelihood ratio test: chi2=16.4036 , p=0.0003  , df=2\n",
            "parameter F test:         F=8.2492  , p=0.0003  , df_denom=550, df_num=2\n",
            "\n",
            "Granger Causality\n",
            "number of lags (no zero) 3\n",
            "ssr based F test:         F=5.4934  , p=0.0010  , df_denom=547, df_num=3\n",
            "ssr based chi2 test:   chi2=16.6912 , p=0.0008  , df=3\n",
            "likelihood ratio test: chi2=16.4447 , p=0.0009  , df=3\n",
            "parameter F test:         F=5.4934  , p=0.0010  , df_denom=547, df_num=3\n",
            " \n",
            "Does DAX causes ISE? \n",
            "----------------------------------------------------------\n",
            "\n",
            "Granger Causality\n",
            "number of lags (no zero) 1\n",
            "ssr based F test:         F=0.0015  , p=0.9687  , df_denom=553, df_num=1\n",
            "ssr based chi2 test:   chi2=0.0015  , p=0.9686  , df=1\n",
            "likelihood ratio test: chi2=0.0015  , p=0.9686  , df=1\n",
            "parameter F test:         F=0.0015  , p=0.9687  , df_denom=553, df_num=1\n",
            "\n",
            "Granger Causality\n",
            "number of lags (no zero) 2\n",
            "ssr based F test:         F=0.1164  , p=0.8901  , df_denom=550, df_num=2\n",
            "ssr based chi2 test:   chi2=0.2350  , p=0.8892  , df=2\n",
            "likelihood ratio test: chi2=0.2349  , p=0.8892  , df=2\n",
            "parameter F test:         F=0.1164  , p=0.8901  , df_denom=550, df_num=2\n",
            "\n",
            "Granger Causality\n",
            "number of lags (no zero) 3\n",
            "ssr based F test:         F=0.1305  , p=0.9419  , df_denom=547, df_num=3\n",
            "ssr based chi2 test:   chi2=0.3966  , p=0.9409  , df=3\n",
            "likelihood ratio test: chi2=0.3965  , p=0.9410  , df=3\n",
            "parameter F test:         F=0.1305  , p=0.9419  , df_denom=547, df_num=3\n",
            " \n",
            "Does FTSE causes ISE? \n",
            "----------------------------------------------------------\n",
            "\n",
            "Granger Causality\n",
            "number of lags (no zero) 1\n",
            "ssr based F test:         F=0.1345  , p=0.7140  , df_denom=553, df_num=1\n",
            "ssr based chi2 test:   chi2=0.1352  , p=0.7131  , df=1\n",
            "likelihood ratio test: chi2=0.1352  , p=0.7131  , df=1\n",
            "parameter F test:         F=0.1345  , p=0.7140  , df_denom=553, df_num=1\n",
            "\n",
            "Granger Causality\n",
            "number of lags (no zero) 2\n",
            "ssr based F test:         F=0.0406  , p=0.9602  , df_denom=550, df_num=2\n",
            "ssr based chi2 test:   chi2=0.0820  , p=0.9598  , df=2\n",
            "likelihood ratio test: chi2=0.0820  , p=0.9598  , df=2\n",
            "parameter F test:         F=0.0406  , p=0.9602  , df_denom=550, df_num=2\n",
            "\n",
            "Granger Causality\n",
            "number of lags (no zero) 3\n",
            "ssr based F test:         F=0.3093  , p=0.8187  , df_denom=547, df_num=3\n",
            "ssr based chi2 test:   chi2=0.9398  , p=0.8158  , df=3\n",
            "likelihood ratio test: chi2=0.9390  , p=0.8160  , df=3\n",
            "parameter F test:         F=0.3093  , p=0.8187  , df_denom=547, df_num=3\n",
            " \n",
            "Does NIKKEI causes ISE? \n",
            "----------------------------------------------------------\n",
            "\n",
            "Granger Causality\n",
            "number of lags (no zero) 1\n",
            "ssr based F test:         F=3.1271  , p=0.0776  , df_denom=553, df_num=1\n",
            "ssr based chi2 test:   chi2=3.1440  , p=0.0762  , df=1\n",
            "likelihood ratio test: chi2=3.1352  , p=0.0766  , df=1\n",
            "parameter F test:         F=3.1271  , p=0.0776  , df_denom=553, df_num=1\n",
            "\n",
            "Granger Causality\n",
            "number of lags (no zero) 2\n",
            "ssr based F test:         F=2.1528  , p=0.1171  , df_denom=550, df_num=2\n",
            "ssr based chi2 test:   chi2=4.3447  , p=0.1139  , df=2\n",
            "likelihood ratio test: chi2=4.3278  , p=0.1149  , df=2\n",
            "parameter F test:         F=2.1528  , p=0.1171  , df_denom=550, df_num=2\n",
            "\n",
            "Granger Causality\n",
            "number of lags (no zero) 3\n",
            "ssr based F test:         F=1.3891  , p=0.2452  , df_denom=547, df_num=3\n",
            "ssr based chi2 test:   chi2=4.2205  , p=0.2386  , df=3\n",
            "likelihood ratio test: chi2=4.2045  , p=0.2402  , df=3\n",
            "parameter F test:         F=1.3891  , p=0.2452  , df_denom=547, df_num=3\n",
            " \n",
            "Does BOVESPA causes ISE? \n",
            "----------------------------------------------------------\n",
            "\n",
            "Granger Causality\n",
            "number of lags (no zero) 1\n",
            "ssr based F test:         F=25.0819 , p=0.0000  , df_denom=553, df_num=1\n",
            "ssr based chi2 test:   chi2=25.2180 , p=0.0000  , df=1\n",
            "likelihood ratio test: chi2=24.6628 , p=0.0000  , df=1\n",
            "parameter F test:         F=25.0819 , p=0.0000  , df_denom=553, df_num=1\n",
            "\n",
            "Granger Causality\n",
            "number of lags (no zero) 2\n",
            "ssr based F test:         F=12.7316 , p=0.0000  , df_denom=550, df_num=2\n",
            "ssr based chi2 test:   chi2=25.6946 , p=0.0000  , df=2\n",
            "likelihood ratio test: chi2=25.1176 , p=0.0000  , df=2\n",
            "parameter F test:         F=12.7316 , p=0.0000  , df_denom=550, df_num=2\n",
            "\n",
            "Granger Causality\n",
            "number of lags (no zero) 3\n",
            "ssr based F test:         F=9.5357  , p=0.0000  , df_denom=547, df_num=3\n",
            "ssr based chi2 test:   chi2=28.9732 , p=0.0000  , df=3\n",
            "likelihood ratio test: chi2=28.2410 , p=0.0000  , df=3\n",
            "parameter F test:         F=9.5357  , p=0.0000  , df_denom=547, df_num=3\n",
            " \n",
            "Does EU causes ISE? \n",
            "----------------------------------------------------------\n",
            "\n",
            "Granger Causality\n",
            "number of lags (no zero) 1\n",
            "ssr based F test:         F=0.2814  , p=0.5960  , df_denom=553, df_num=1\n",
            "ssr based chi2 test:   chi2=0.2830  , p=0.5948  , df=1\n",
            "likelihood ratio test: chi2=0.2829  , p=0.5948  , df=1\n",
            "parameter F test:         F=0.2814  , p=0.5960  , df_denom=553, df_num=1\n",
            "\n",
            "Granger Causality\n",
            "number of lags (no zero) 2\n",
            "ssr based F test:         F=0.3135  , p=0.7310  , df_denom=550, df_num=2\n",
            "ssr based chi2 test:   chi2=0.6327  , p=0.7288  , df=2\n",
            "likelihood ratio test: chi2=0.6324  , p=0.7289  , df=2\n",
            "parameter F test:         F=0.3135  , p=0.7310  , df_denom=550, df_num=2\n",
            "\n",
            "Granger Causality\n",
            "number of lags (no zero) 3\n",
            "ssr based F test:         F=0.6446  , p=0.5866  , df_denom=547, df_num=3\n",
            "ssr based chi2 test:   chi2=1.9585  , p=0.5811  , df=3\n",
            "likelihood ratio test: chi2=1.9550  , p=0.5818  , df=3\n",
            "parameter F test:         F=0.6446  , p=0.5866  , df_denom=547, df_num=3\n",
            " \n",
            "Does EM causes ISE? \n",
            "----------------------------------------------------------\n",
            "\n",
            "Granger Causality\n",
            "number of lags (no zero) 1\n",
            "ssr based F test:         F=0.1494  , p=0.6992  , df_denom=553, df_num=1\n",
            "ssr based chi2 test:   chi2=0.1502  , p=0.6983  , df=1\n",
            "likelihood ratio test: chi2=0.1502  , p=0.6983  , df=1\n",
            "parameter F test:         F=0.1494  , p=0.6992  , df_denom=553, df_num=1\n",
            "\n",
            "Granger Causality\n",
            "number of lags (no zero) 2\n",
            "ssr based F test:         F=0.5964  , p=0.5511  , df_denom=550, df_num=2\n",
            "ssr based chi2 test:   chi2=1.2036  , p=0.5478  , df=2\n",
            "likelihood ratio test: chi2=1.2023  , p=0.5482  , df=2\n",
            "parameter F test:         F=0.5964  , p=0.5511  , df_denom=550, df_num=2\n",
            "\n",
            "Granger Causality\n",
            "number of lags (no zero) 3\n",
            "ssr based F test:         F=0.5312  , p=0.6610  , df_denom=547, df_num=3\n",
            "ssr based chi2 test:   chi2=1.6140  , p=0.6562  , df=3\n",
            "likelihood ratio test: chi2=1.6117  , p=0.6567  , df=3\n",
            "parameter F test:         F=0.5312  , p=0.6610  , df_denom=547, df_num=3\n",
            " \n"
          ],
          "name": "stdout"
        }
      ]
    },
    {
      "cell_type": "markdown",
      "metadata": {
        "id": "Q6SPNg-TWKao"
      },
      "source": [
        "## After using the Granger Causality test we see that, SP and BOVESPA cause ISE, so we make a dataframe using these 3 time series"
      ]
    },
    {
      "cell_type": "code",
      "metadata": {
        "id": "01QAS2n0A_BK",
        "colab": {
          "base_uri": "https://localhost:8080/"
        },
        "outputId": "84425175-d8c7-4560-ed81-0d9ae5a010d5"
      },
      "source": [
        "data = df[['ISE','SP','BOVESPA']]\n",
        "data.shape"
      ],
      "execution_count": null,
      "outputs": [
        {
          "output_type": "execute_result",
          "data": {
            "text/plain": [
              "(557, 3)"
            ]
          },
          "metadata": {
            "tags": []
          },
          "execution_count": 25
        }
      ]
    },
    {
      "cell_type": "markdown",
      "metadata": {
        "id": "ZfrskIUVsJH_"
      },
      "source": [
        "## **Train-Test Split**"
      ]
    },
    {
      "cell_type": "code",
      "metadata": {
        "id": "coW45RSJb0Er",
        "colab": {
          "base_uri": "https://localhost:8080/"
        },
        "outputId": "4daba101-3d05-4fdf-e570-67258fe8fda0"
      },
      "source": [
        "n = len(data)\n",
        "p = round(n*0.90)\n",
        "train_data = data.iloc[:p]\n",
        "test_data = data.iloc[p:]\n",
        "print(len(train_data),len(test_data))"
      ],
      "execution_count": null,
      "outputs": [
        {
          "output_type": "stream",
          "text": [
            "501 56\n"
          ],
          "name": "stdout"
        }
      ]
    },
    {
      "cell_type": "markdown",
      "metadata": {
        "id": "3NM5ERmft9Ch"
      },
      "source": [
        "# **Vector Auto Regressions**"
      ]
    },
    {
      "cell_type": "code",
      "metadata": {
        "id": "qRkj3dPGue6C"
      },
      "source": [
        "from statsmodels.tsa.api import VARMAX\n",
        "from statsmodels.tsa.api import VAR"
      ],
      "execution_count": null,
      "outputs": []
    },
    {
      "cell_type": "markdown",
      "metadata": {
        "id": "61yabYjJ-W1p"
      },
      "source": [
        "## Getting the best order for prediction"
      ]
    },
    {
      "cell_type": "code",
      "metadata": {
        "id": "Nkpg90CVsSBN",
        "colab": {
          "base_uri": "https://localhost:8080/"
        },
        "outputId": "4d0ccaf3-244b-408d-a912-2817e0b74fd1"
      },
      "source": [
        "model = VAR(train_data)\n",
        "sorted_order = model.select_order(maxlags=20)\n",
        "print(sorted_order.summary())"
      ],
      "execution_count": null,
      "outputs": [
        {
          "output_type": "stream",
          "text": [
            " VAR Order Selection (* highlights the minimums)  \n",
            "==================================================\n",
            "       AIC         BIC         FPE         HQIC   \n",
            "--------------------------------------------------\n",
            "0       -26.11     -26.09*   4.568e-12     -26.10*\n",
            "1      -26.14*      -26.03  4.448e-12*      -26.10\n",
            "2       -26.11      -25.93   4.558e-12      -26.04\n",
            "3       -26.11      -25.85   4.577e-12      -26.01\n",
            "4       -26.11      -25.77   4.580e-12      -25.98\n",
            "5       -26.10      -25.68   4.633e-12      -25.93\n",
            "6       -26.07      -25.58   4.756e-12      -25.88\n",
            "7       -26.04      -25.47   4.887e-12      -25.82\n",
            "8       -26.04      -25.39   4.915e-12      -25.78\n",
            "9       -26.03      -25.30   4.974e-12      -25.74\n",
            "10      -26.02      -25.22   4.994e-12      -25.71\n",
            "11      -26.01      -25.12   5.084e-12      -25.66\n",
            "12      -26.00      -25.04   5.116e-12      -25.62\n",
            "13      -25.98      -24.94   5.217e-12      -25.57\n",
            "14      -25.98      -24.86   5.205e-12      -25.54\n",
            "15      -25.97      -24.77   5.299e-12      -25.49\n",
            "16      -25.96      -24.68   5.341e-12      -25.46\n",
            "17      -25.94      -24.58   5.460e-12      -25.40\n",
            "18      -25.93      -24.49   5.512e-12      -25.36\n",
            "19      -25.92      -24.41   5.555e-12      -25.33\n",
            "20      -25.93      -24.34   5.511e-12      -25.30\n",
            "--------------------------------------------------\n"
          ],
          "name": "stdout"
        }
      ]
    },
    {
      "cell_type": "markdown",
      "metadata": {
        "id": "UQEakgtG-e0t"
      },
      "source": [
        "### Here both AIC and FPE have shown the order 1 as minimum so we select the order as 1"
      ]
    },
    {
      "cell_type": "code",
      "metadata": {
        "id": "jQd3NAQ-uvmm",
        "colab": {
          "base_uri": "https://localhost:8080/"
        },
        "outputId": "ea8ac0be-c43f-43fd-a203-5da64f16aff0"
      },
      "source": [
        "model = VARMAX(train_data,order=(1,0),enforce_stationarity=True)\n",
        "ISE_model = model.fit(disp=False)\n",
        "print(ISE_model.summary())"
      ],
      "execution_count": null,
      "outputs": [
        {
          "output_type": "stream",
          "text": [
            "                              Statespace Model Results                              \n",
            "====================================================================================\n",
            "Dep. Variable:     ['ISE', 'SP', 'BOVESPA']   No. Observations:                  501\n",
            "Model:                               VAR(1)   Log Likelihood                4373.581\n",
            "                                + intercept   AIC                          -8711.162\n",
            "Date:                      Tue, 03 Aug 2021   BIC                          -8635.263\n",
            "Time:                              12:32:21   HQIC                         -8681.382\n",
            "Sample:                          01-05-2009                                         \n",
            "                               - 12-06-2010                                         \n",
            "Covariance Type:                        opg                                         \n",
            "=====================================================================================\n",
            "Ljung-Box (Q):          33.12, 49.59, 40.55   Jarque-Bera (JB):   33.00, 59.15, 55.19\n",
            "Prob(Q):                   0.77, 0.14, 0.45   Prob(JB):              0.00, 0.00, 0.00\n",
            "Heteroskedasticity (H):    0.56, 0.42, 0.51   Skew:                -0.03, -0.02, 0.18\n",
            "Prob(H) (two-sided):       0.00, 0.00, 0.00   Kurtosis:              4.26, 4.68, 4.58\n",
            "                           Results for equation ISE                           \n",
            "==============================================================================\n",
            "                 coef    std err          z      P>|z|      [0.025      0.975]\n",
            "------------------------------------------------------------------------------\n",
            "intercept      0.0017      0.001      2.315      0.021       0.000       0.003\n",
            "L1.ISE        -0.0563      0.043     -1.300      0.194      -0.141       0.029\n",
            "L1.SP          0.0860      0.075      1.142      0.253      -0.062       0.233\n",
            "L1.BOVESPA     0.1649      0.062      2.675      0.007       0.044       0.286\n",
            "                           Results for equation SP                            \n",
            "==============================================================================\n",
            "                 coef    std err          z      P>|z|      [0.025      0.975]\n",
            "------------------------------------------------------------------------------\n",
            "intercept      0.0005      0.001      0.784      0.433      -0.001       0.002\n",
            "L1.ISE         0.0191      0.042      0.458      0.647      -0.063       0.101\n",
            "L1.SP         -0.0865      0.060     -1.444      0.149      -0.204       0.031\n",
            "L1.BOVESPA     0.0440      0.048      0.918      0.359      -0.050       0.138\n",
            "                         Results for equation BOVESPA                         \n",
            "==============================================================================\n",
            "                 coef    std err          z      P>|z|      [0.025      0.975]\n",
            "------------------------------------------------------------------------------\n",
            "intercept      0.0012      0.001      1.497      0.134      -0.000       0.003\n",
            "L1.ISE        -0.0368      0.048     -0.775      0.438      -0.130       0.056\n",
            "L1.SP          0.0344      0.064      0.539      0.590      -0.091       0.159\n",
            "L1.BOVESPA     0.0056      0.055      0.102      0.919      -0.102       0.113\n",
            "                                Error covariance matrix                                 \n",
            "========================================================================================\n",
            "                           coef    std err          z      P>|z|      [0.025      0.975]\n",
            "----------------------------------------------------------------------------------------\n",
            "sqrt.var.ISE             0.0162      0.000     37.259      0.000       0.015       0.017\n",
            "sqrt.cov.ISE.SP          0.0066      0.001     11.233      0.000       0.005       0.008\n",
            "sqrt.var.SP              0.0130      0.000     37.102      0.000       0.012       0.014\n",
            "sqrt.cov.ISE.BOVESPA     0.0072      0.001     11.476      0.000       0.006       0.008\n",
            "sqrt.cov.SP.BOVESPA      0.0098      0.000     20.296      0.000       0.009       0.011\n",
            "sqrt.var.BOVESPA         0.0109      0.000     38.146      0.000       0.010       0.011\n",
            "========================================================================================\n",
            "\n",
            "Warnings:\n",
            "[1] Covariance matrix calculated using the outer product of gradients (complex-step).\n"
          ],
          "name": "stdout"
        }
      ]
    },
    {
      "cell_type": "markdown",
      "metadata": {
        "id": "DorQ7GjIJz79"
      },
      "source": [
        "## Getting the predictions"
      ]
    },
    {
      "cell_type": "code",
      "metadata": {
        "id": "rbOxvANnzKEp",
        "colab": {
          "base_uri": "https://localhost:8080/",
          "height": 203
        },
        "outputId": "ccf7b1ce-c954-4061-a3ba-01f55a5729f8"
      },
      "source": [
        "predict_model = ISE_model.get_prediction(start=len(train_data),end=556)\n",
        "ISE_prediction = predict_model.predicted_mean\n",
        "ISE_prediction.columns = ['ISE_predicted','SP_predicted','BOVESPA_predicted']\n",
        "ISE_prediction.head()"
      ],
      "execution_count": null,
      "outputs": [
        {
          "output_type": "execute_result",
          "data": {
            "text/html": [
              "<div>\n",
              "<style scoped>\n",
              "    .dataframe tbody tr th:only-of-type {\n",
              "        vertical-align: middle;\n",
              "    }\n",
              "\n",
              "    .dataframe tbody tr th {\n",
              "        vertical-align: top;\n",
              "    }\n",
              "\n",
              "    .dataframe thead th {\n",
              "        text-align: right;\n",
              "    }\n",
              "</style>\n",
              "<table border=\"1\" class=\"dataframe\">\n",
              "  <thead>\n",
              "    <tr style=\"text-align: right;\">\n",
              "      <th></th>\n",
              "      <th>ISE_predicted</th>\n",
              "      <th>SP_predicted</th>\n",
              "      <th>BOVESPA_predicted</th>\n",
              "    </tr>\n",
              "  </thead>\n",
              "  <tbody>\n",
              "    <tr>\n",
              "      <th>2010-12-07</th>\n",
              "      <td>0.000403</td>\n",
              "      <td>0.000761</td>\n",
              "      <td>0.000624</td>\n",
              "    </tr>\n",
              "    <tr>\n",
              "      <th>2010-12-08</th>\n",
              "      <td>0.001880</td>\n",
              "      <td>0.000511</td>\n",
              "      <td>0.001166</td>\n",
              "    </tr>\n",
              "    <tr>\n",
              "      <th>2010-12-09</th>\n",
              "      <td>0.001865</td>\n",
              "      <td>0.000584</td>\n",
              "      <td>0.001107</td>\n",
              "    </tr>\n",
              "    <tr>\n",
              "      <th>2010-12-10</th>\n",
              "      <td>0.001862</td>\n",
              "      <td>0.000575</td>\n",
              "      <td>0.001109</td>\n",
              "    </tr>\n",
              "    <tr>\n",
              "      <th>2010-12-13</th>\n",
              "      <td>0.001862</td>\n",
              "      <td>0.000576</td>\n",
              "      <td>0.001109</td>\n",
              "    </tr>\n",
              "  </tbody>\n",
              "</table>\n",
              "</div>"
            ],
            "text/plain": [
              "            ISE_predicted  SP_predicted  BOVESPA_predicted\n",
              "2010-12-07       0.000403      0.000761           0.000624\n",
              "2010-12-08       0.001880      0.000511           0.001166\n",
              "2010-12-09       0.001865      0.000584           0.001107\n",
              "2010-12-10       0.001862      0.000575           0.001109\n",
              "2010-12-13       0.001862      0.000576           0.001109"
            ]
          },
          "metadata": {
            "tags": []
          },
          "execution_count": 30
        }
      ]
    },
    {
      "cell_type": "markdown",
      "metadata": {
        "id": "InGwCJqwJ4V-"
      },
      "source": [
        "## Concatenating the predicted and test values of ISE to visualise the data"
      ]
    },
    {
      "cell_type": "code",
      "metadata": {
        "id": "9Pq6GdMx4m6r",
        "colab": {
          "base_uri": "https://localhost:8080/",
          "height": 234
        },
        "outputId": "04a39d0c-cb06-4e01-b2c0-6ce43416b2ae"
      },
      "source": [
        "test_pred = pd.concat([test_data['ISE'],ISE_prediction['ISE_predicted']],axis=1)\n",
        "test_pred.head()"
      ],
      "execution_count": null,
      "outputs": [
        {
          "output_type": "execute_result",
          "data": {
            "text/html": [
              "<div>\n",
              "<style scoped>\n",
              "    .dataframe tbody tr th:only-of-type {\n",
              "        vertical-align: middle;\n",
              "    }\n",
              "\n",
              "    .dataframe tbody tr th {\n",
              "        vertical-align: top;\n",
              "    }\n",
              "\n",
              "    .dataframe thead th {\n",
              "        text-align: right;\n",
              "    }\n",
              "</style>\n",
              "<table border=\"1\" class=\"dataframe\">\n",
              "  <thead>\n",
              "    <tr style=\"text-align: right;\">\n",
              "      <th></th>\n",
              "      <th>ISE</th>\n",
              "      <th>ISE_predicted</th>\n",
              "    </tr>\n",
              "    <tr>\n",
              "      <th>date</th>\n",
              "      <th></th>\n",
              "      <th></th>\n",
              "    </tr>\n",
              "  </thead>\n",
              "  <tbody>\n",
              "    <tr>\n",
              "      <th>2010-12-07</th>\n",
              "      <td>0.002380</td>\n",
              "      <td>0.000403</td>\n",
              "    </tr>\n",
              "    <tr>\n",
              "      <th>2010-12-08</th>\n",
              "      <td>-0.002491</td>\n",
              "      <td>0.001880</td>\n",
              "    </tr>\n",
              "    <tr>\n",
              "      <th>2010-12-09</th>\n",
              "      <td>-0.026805</td>\n",
              "      <td>0.001865</td>\n",
              "    </tr>\n",
              "    <tr>\n",
              "      <th>2010-12-10</th>\n",
              "      <td>-0.017676</td>\n",
              "      <td>0.001862</td>\n",
              "    </tr>\n",
              "    <tr>\n",
              "      <th>2010-12-13</th>\n",
              "      <td>0.024729</td>\n",
              "      <td>0.001862</td>\n",
              "    </tr>\n",
              "  </tbody>\n",
              "</table>\n",
              "</div>"
            ],
            "text/plain": [
              "                 ISE  ISE_predicted\n",
              "date                               \n",
              "2010-12-07  0.002380       0.000403\n",
              "2010-12-08 -0.002491       0.001880\n",
              "2010-12-09 -0.026805       0.001865\n",
              "2010-12-10 -0.017676       0.001862\n",
              "2010-12-13  0.024729       0.001862"
            ]
          },
          "metadata": {
            "tags": []
          },
          "execution_count": 31
        }
      ]
    },
    {
      "cell_type": "markdown",
      "metadata": {
        "id": "btzxeI6sKGOb"
      },
      "source": [
        "## Visualisations"
      ]
    },
    {
      "cell_type": "code",
      "metadata": {
        "id": "mbg40cRF5sz8",
        "colab": {
          "base_uri": "https://localhost:8080/",
          "height": 603
        },
        "outputId": "c1764ae2-3a37-4cb3-cefb-294b0c75a6c8"
      },
      "source": [
        "test_pred.plot(figsize=(16,9))"
      ],
      "execution_count": null,
      "outputs": [
        {
          "output_type": "execute_result",
          "data": {
            "text/plain": [
              "<matplotlib.axes._subplots.AxesSubplot at 0x7f3069e6ded0>"
            ]
          },
          "metadata": {
            "tags": []
          },
          "execution_count": 32
        },
        {
          "output_type": "display_data",
          "data": {
            "image/png": "[encoded data removed]",
            "text/plain": [
              "<Figure size 1152x648 with 1 Axes>"
            ]
          },
          "metadata": {
            "tags": [],
            "needs_background": "light"
          }
        }
      ]
    },
    {
      "cell_type": "markdown",
      "metadata": {
        "id": "ABGtY1VR-Oo2"
      },
      "source": [
        "## The predictions are correct as the time series data is white noise and cannot be predicted"
      ]
    }
  ]
}